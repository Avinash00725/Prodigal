{
 "cells": [
  {
   "cell_type": "markdown",
   "id": "257c280e",
   "metadata": {},
   "source": [
    "### 1. Post Training Quantization"
   ]
  },
  {
   "cell_type": "code",
   "execution_count": null,
   "id": "da03c19a",
   "metadata": {},
   "outputs": [],
   "source": [
    "import torch\n",
    "import torchvision.models as models\n",
    "from torchvision.models import ResNet18_Weights\n",
    "import torch.quantization\n",
    "\n",
    "# Load FP32 model with updated weights\n",
    "model_fp32 = models.resnet18(weights=ResNet18_Weights.DEFAULT)\n",
    "model_fp32.eval()\n",
    "\n",
    "# Fuse modules\n",
    "model_fp32_fused = torch.quantization.fuse_modules(\n",
    "    model_fp32, [[\"conv1\", \"bn1\", \"relu\"]], inplace=False)\n",
    "\n",
    "# Perform Post-Training Quantization (PTQ)\n",
    "model_int8 = torch.quantization.quantize_dynamic(\n",
    "    model_fp32_fused, {torch.nn.Linear}, dtype=torch.qint8)\n",
    "\n",
    "# Save quantized model\n",
    "torch.save(model_int8.state_dict(), \"resnet18_ptq_int8.pth\")\n"
   ]
  },
  {
   "cell_type": "markdown",
   "id": "80f1b4b6",
   "metadata": {},
   "source": [
    "### 2. Quantization Aware Training"
   ]
  },
  {
   "cell_type": "code",
   "execution_count": null,
   "id": "59161d0c",
   "metadata": {},
   "outputs": [],
   "source": [
    "import torch\n",
    "import torchvision\n",
    "import torchvision.models as models\n",
    "import torchvision.transforms as transforms\n",
    "from torchvision.models import ResNet18_Weights\n",
    "\n",
    "# Dataset and DataLoader\n",
    "transform = transforms.Compose([transforms.Resize(256), transforms.CenterCrop(224), transforms.ToTensor()])\n",
    "dataset = torchvision.datasets.FakeData(size=1000, image_size=(3, 224, 224), transform=transform)\n",
    "dataloader = torch.utils.data.DataLoader(dataset, batch_size=32, num_workers=0)\n",
    "\n",
    "# Model\n",
    "model = models.resnet18(weights=ResNet18_Weights.DEFAULT)\n",
    "model.eval()\n",
    "model = torch.quantization.fuse_modules(model, [[\"conv1\", \"bn1\", \"relu\"]], inplace=False)\n",
    "model.train()\n",
    "\n",
    "# Quantization config\n",
    "model.qconfig = torch.quantization.get_default_qat_qconfig(\"fbgemm\")\n",
    "torch.quantization.prepare_qat(model, inplace=True)\n",
    "\n",
    "# Optimizer and Loss\n",
    "optimizer = torch.optim.SGD(model.parameters(), lr=0.0001)\n",
    "criterion = torch.nn.CrossEntropyLoss()\n",
    "\n",
    "# Training Loop\n",
    "for epoch in range(2):  # Reduced for testing\n",
    "    print(f\"Epoch {epoch + 1}...\")\n",
    "    for batch_idx, (images, labels) in enumerate(dataloader):\n",
    "        print(f\"Batch {batch_idx + 1}...\")\n",
    "        optimizer.zero_grad()\n",
    "        output = model(images)\n",
    "        loss = criterion(output, labels)\n",
    "        print(f\"Loss: {loss.item()}\")\n",
    "        loss.backward()\n",
    "        optimizer.step()\n",
    "\n",
    "# Calibration\n",
    "print(\"Calibrating model...\")\n",
    "model.eval()\n",
    "with torch.no_grad():\n",
    "    for images, _ in dataloader:\n",
    "        model(images)\n",
    "        break\n",
    "print(\"Calibration complete!\")\n",
    "\n",
    "# Convert to quantized model\n",
    "quantized_model = torch.quantization.convert(model, inplace=False)\n",
    "print(\"Quantization complete!\")\n",
    "\n",
    "# Save model\n",
    "torch.save(quantized_model.state_dict(), \"resnet18_qat_int8.pth\")\n",
    "print(\"Model saved!\")\n"
   ]
  }
 ],
 "metadata": {
  "language_info": {
   "name": "python"
  }
 },
 "nbformat": 4,
 "nbformat_minor": 5
}
